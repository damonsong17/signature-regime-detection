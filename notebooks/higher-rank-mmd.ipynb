{
 "cells": [
  {
   "cell_type": "markdown",
   "id": "6c008764",
   "metadata": {
    "pycharm": {
     "name": ""
    }
   },
   "source": [
    "<div style=\"background: navy; color: white; padding: 20px\">\n",
    "\n",
    "# $\\S 6$: The rank 2 MMD as an improvement over the rank 1 MMD\n",
    "\n",
    "## Z Issa Apr 2023"
   ]
  },
  {
   "cell_type": "markdown",
   "id": "fb28c682",
   "metadata": {},
   "source": [
    "In this notebook, we show how using the $\\mathrm{MMD}_2$ as a metric for market regime detection problems can lead to improved performance than by simply using the $\\mathrm{MMD}_1$. \n",
    "\n",
    "### Background."
   ]
  },
  {
   "cell_type": "markdown",
   "id": "77246605",
   "metadata": {},
   "source": [
    "<div style=\"background: navy; color: white; padding: 20px\">\n",
    "\n",
    "\n",
    "### Imports"
   ]
  },
  {
   "cell_type": "code",
   "execution_count": null,
   "id": "bbe4d364",
   "metadata": {},
   "outputs": [],
   "source": [
    "from src.generators.config import ModelConfig\n",
    "from src.testing import TestConfig\n",
    "from src.testing.discriminators import GeneralMMDDetector\n",
    "from src.testing.discriminators.config import ProcessorConfig\n",
    "from src.testing.experiment_functions.mmd_test_functions import get_beliefs_from_config\n",
    "from src.utils.Config import Config\n",
    "from src.utils.auxiliary_classes.PathTransformer import PathTransformer, PathTransformerConfig\n",
    "from src.utils.auxiliary_classes.RegimePartitioner import RegimePartitionerConfig"
   ]
  },
  {
   "cell_type": "markdown",
   "id": "d8e6a7c5",
   "metadata": {},
   "source": [
    "<div style=\"background: navy; color: white; padding: 20px\">\n",
    "\n",
    "    \n",
    "### 1. Set configurations"
   ]
  },
  {
   "cell_type": "code",
   "execution_count": null,
   "id": "cccf34bc",
   "metadata": {},
   "outputs": [],
   "source": [
    "test_config             = TestConfig()\n",
    "path_transformer_config = PathTransformerConfig()\n",
    "regime_config           = RegimePartitionerConfig()\n",
    "\n",
    "year_mesh         = 252\n",
    "time              = 1/12\n",
    "dim               = 5\n",
    "\n",
    "mmd2_model_config = ModelConfig()\n",
    "mmd2_model_config.override_args({\n",
    "    \"year_mesh\": year_mesh\n",
    "})\n",
    "\n",
    "path_transformer_config.set_transformations({\n",
    "    \"standardise_path_transform\":    (True,  0, {\"s_type\": \"initial\"}),\n",
    "    \"time_normalisation_transform\":  (True,  0, {}),\n",
    "    \"difference_transform\":          (False, 0, {}),\n",
    "    \"squared_log_returns_transform\": (False, 0, {}),\n",
    "    \"ewma_volatility_transform\"    : (False, 0, {\"lambd\": 0.5}),\n",
    "    \"cumulant_transform\":            (True, 2, {}),\n",
    "    \"increment_transform\":           (False, 2, {}),\n",
    "    \"lead_lag_transform\":            (False, 3, {}),\n",
    "    \"invisibility_transform\":        (False, 4, {}),\n",
    "})\n",
    "\n",
    "path_transformer_config.compute_pathwise_signature_transform = False\n",
    "path_transformer_config.signature_order = 8\n",
    "\n",
    "test_config.override_args({\n",
    "    \"n_steps\"          : int(time*year_mesh),\n",
    "    \"n_paths\"          : 10,\n",
    "    \"offset\"           : 0,\n",
    "    \"weight_factor\"    : 1,\n",
    "    \"belief_models\"    : [\"gbm\"],\n",
    "    \"model_pair_names\" : [\"gbm\", \"rBergomi\"],\n",
    "    \"belief_params\"    : [[[0., 0.2] for _ in range(dim)]],\n",
    "    \"model_pair_params\": [[[0., 0.2] for _ in range(dim)], [[0.1, 0.1, -0.7, 0.3] for _ in range(dim)]],\n",
    "    \"path_bank_size\"   : 100000\n",
    "})\n",
    "\n",
    "\n",
    "\n",
    "mmd1_processor_config = ProcessorConfig()\n",
    "mmd2_processor_config = ProcessorConfig()\n",
    "\n",
    "mmd1_processor_config.override_args({\n",
    "    \"generalmmddetector_kwargs\": Config(**{\n",
    "        \"normalise\": False,\n",
    "        \"n_tests\": 512,\n",
    "        \"n_evaluations\": 1,\n",
    "        \"metric_kwargs\": Config(**{\n",
    "            \"kernel_type\": \"rbf\",\n",
    "            \"metric_type\": \"mmd\",\n",
    "            \"sigmas\": [sigma0],  \n",
    "            \"dyadic_orders\": [0],  \n",
    "            \"lambd\": 1\n",
    "        }),\n",
    "        \"evaluator_kwargs\": Config(**{\n",
    "            \"pct_ignore\": 0.1\n",
    "        })\n",
    "    })\n",
    "})\n",
    "\n",
    "mmd2_processor_config.override_args({\n",
    "    \"generalmmddetector_kwargs\": Config(**{\n",
    "        \"normalise\": False,\n",
    "        \"n_tests\": 512,\n",
    "        \"n_evaluations\": 1,\n",
    "        \"metric_kwargs\": Config(**{\n",
    "            \"kernel_type\": \"rbf\",\n",
    "            \"metric_type\": \"mmd\",\n",
    "            \"sigmas\": [sigma0, sigma1],  \n",
    "            \"dyadic_orders\": [0, 0],  \n",
    "            \"lambd\": 1\n",
    "        }),\n",
    "        \"evaluator_kwargs\": Config(**{\n",
    "            \"pct_ignore\": 0.1\n",
    "        })\n",
    "    })\n",
    "})\n",
    "        \n",
    "beliefs, belief_details, model_pairs = get_beliefs_from_config(mmd2_test_config, mmd2_model_config)\n",
    "path_transformer = PathTransformer(path_transformer_config)"
   ]
  },
  {
   "cell_type": "markdown",
   "id": "e19c37f8",
   "metadata": {},
   "source": [
    "### 2. Initialize detector objects"
   ]
  },
  {
   "cell_type": "code",
   "execution_count": null,
   "id": "5b7080c1",
   "metadata": {},
   "outputs": [],
   "source": [
    "mmd1_detector = GeneralMMDDetector(\n",
    "    beliefs          = beliefs, \n",
    "    path_details     = belief_details,\n",
    "    path_transformer = path_transformer,\n",
    "    processor_config = mmd1_processor_config,\n",
    "    test_config      = mmd2_test_config\n",
    ")\n",
    "\n",
    "mmd2_detector = GeneralMMDDetector(\n",
    "    beliefs          = beliefs, \n",
    "    path_details     = belief_details,\n",
    "    path_transformer = path_transformer,\n",
    "    processor_config = mmd2_processor_config,\n",
    "    test_config      = mmd2_test_config\n",
    ")"
   ]
  },
  {
   "cell_type": "markdown",
   "id": "36558541",
   "metadata": {},
   "source": [
    "### 3. Build regime-changed path\n",
    "\n"
   ]
  }
 ],
 "metadata": {
  "kernelspec": {
   "display_name": "Python 3 (ipykernel)",
   "language": "python",
   "name": "python3"
  },
  "language_info": {
   "codemirror_mode": {
    "name": "ipython",
    "version": 3
   },
   "file_extension": ".py",
   "mimetype": "text/x-python",
   "name": "python",
   "nbconvert_exporter": "python",
   "pygments_lexer": "ipython3",
   "version": "3.9.15"
  }
 },
 "nbformat": 4,
 "nbformat_minor": 5
}
